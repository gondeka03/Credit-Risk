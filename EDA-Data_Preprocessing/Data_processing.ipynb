{
 "cells": [
  {
   "cell_type": "code",
   "execution_count": null,
   "metadata": {},
   "outputs": [],
   "source": [
    "import numpy as np\n",
    "import pandas as pd"
   ]
  },
  {
   "cell_type": "markdown",
   "metadata": {},
   "source": [
    "Reading training datasets"
   ]
  },
  {
   "cell_type": "code",
   "execution_count": null,
   "metadata": {},
   "outputs": [],
   "source": [
    "X_train = pd.read_csv(\"X_train.csv\")\n",
    "y_train = pd.read_csv(\"y_train.csv\")"
   ]
  },
  {
   "cell_type": "markdown",
   "metadata": {},
   "source": [
    "Mapping y dataset 1 - Bad, 0 - Good, Removing negative values from X dataset"
   ]
  },
  {
   "cell_type": "code",
   "execution_count": null,
   "metadata": {},
   "outputs": [],
   "source": [
    "\n",
    "y_train['RiskPerformance'] = y_train['RiskPerformance'].map({'Bad': 1, 'Good': 0})\n",
    "X_train[X_train < 0] = np.nan\n",
    "\n",
    "y_train = y_train.sort_values(by='Unnamed: 0')\n",
    "X_train = X_train.sort_values(by = 'Unnamed: 0')\n",
    "\n",
    "X_ids = X_train.iloc[:, 0]\n",
    "Y_ids = y_train.iloc[:, 0] \n",
    "if X_ids.equals(Y_ids):\n",
    "    print(\"Columns are identical\")\n",
    "else:\n",
    "    print(\"Columns are not identical\")"
   ]
  },
  {
   "cell_type": "markdown",
   "metadata": {},
   "source": [
    "Removing first columns from X and y datasets"
   ]
  },
  {
   "cell_type": "code",
   "execution_count": null,
   "metadata": {},
   "outputs": [],
   "source": [
    "\n",
    "X_train = X_train.drop(X_train.columns[0], axis=1)\n",
    "y_train = y_train.drop(y_train.columns[0], axis=1)\n"
   ]
  },
  {
   "cell_type": "markdown",
   "metadata": {},
   "source": [
    "Deleting records with all NaN values"
   ]
  },
  {
   "cell_type": "code",
   "execution_count": null,
   "metadata": {},
   "outputs": [],
   "source": [
    "mask = ~X_train.isnull().all(axis=1)\n",
    "\n",
    "X_train = X_train[mask]\n",
    "    \n",
    "y_train = y_train[mask]"
   ]
  },
  {
   "cell_type": "markdown",
   "metadata": {},
   "source": [
    "Mapping categorical values, and performing one-hot encoding on them, manually fixing problems with dataset"
   ]
  },
  {
   "cell_type": "code",
   "execution_count": null,
   "metadata": {},
   "outputs": [],
   "source": [
    "x10_mapping = {\n",
    "    0: 'off scale',\n",
    "    1: '120+ days overdue',\n",
    "    2: '90 days overdue',\n",
    "    3: '60 days overdue',\n",
    "    4: '30 days overdue',\n",
    "    5: 'unknown overdue',\n",
    "    6: 'unknown overdue',\n",
    "    7: 'current and never overdue',\n",
    "    8: 'all others',\n",
    "    9: 'all others'\n",
    "}\n",
    "\n",
    "x11_mapping = {\n",
    "    1: 'no such value',\n",
    "    2: 'off scale',\n",
    "    3: '120+ days overdue',\n",
    "    4: '90 days overdue',\n",
    "    5: '60 days overdue',\n",
    "    6: '30 days overdue',\n",
    "    7: 'unknown overdue',\n",
    "    8: 'current and never overdue',\n",
    "    9: 'all others'\n",
    "}\n",
    "\n",
    "X_train['X10_categorical'] = X_train['X10'].map(x10_mapping)\n",
    "X_train['X11_categorical'] = X_train['X11'].map(x11_mapping)\n",
    "X_train = pd.get_dummies(X_train, columns=['X10_categorical', 'X11_categorical'], prefix=['X10', 'X11'])\n",
    "\n",
    "X_train = X_train.drop(['X10', 'X11'], axis = 1)"
   ]
  }
 ],
 "metadata": {
  "kernelspec": {
   "display_name": "Python 3 (ipykernel)",
   "language": "python",
   "name": "python3"
  },
  "language_info": {
   "codemirror_mode": {
    "name": "ipython",
    "version": 3
   },
   "file_extension": ".py",
   "mimetype": "text/x-python",
   "name": "python",
   "nbconvert_exporter": "python",
   "pygments_lexer": "ipython3",
   "version": "3.12.4"
  }
 },
 "nbformat": 4,
 "nbformat_minor": 4
}
